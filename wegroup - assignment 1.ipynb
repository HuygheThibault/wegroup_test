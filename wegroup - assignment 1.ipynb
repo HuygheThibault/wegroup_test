{
 "cells": [
  {
   "cell_type": "markdown",
   "metadata": {},
   "source": [
    "# Imports"
   ]
  },
  {
   "cell_type": "code",
   "execution_count": null,
   "metadata": {},
   "outputs": [],
   "source": []
  },
  {
   "cell_type": "markdown",
   "metadata": {},
   "source": [
    "# Assignment"
   ]
  },
  {
   "cell_type": "markdown",
   "metadata": {},
   "source": [
    "Gegeven een lijst met cijfers, de bedoeling is om deze lijst om te zetten\n",
    "in een nieuwe lijst waarbij opeenvolgende gelijke cijfers gegroepeerd worden in een eigen lijst,\n",
    "weliswaar blijft de volgorde van de originele lijst onaangetast. Liefst een zo 'efficiënte' oplossing ;).\n",
    "\n",
    "Voorbeelden:\n",
    "\n",
    "[1] -> [[1]] <br/>\n",
    "[1, 1] -> [[1, 1]] <br/>\n",
    "[1, 1, 2] -> [[1, 1], [2]] <br/>\n",
    "[1, 1, 2, 3, 3, 1, 3, 1, 1, 1, 2] -> [[1, 1], [2], [3, 3], [1], [3], [1,\n",
    "1, 1], [2]]"
   ]
  },
  {
   "cell_type": "code",
   "execution_count": 1,
   "metadata": {
    "ExecuteTime": {
     "end_time": "2020-10-29T10:05:04.405083Z",
     "start_time": "2020-10-29T10:05:04.379081Z"
    }
   },
   "outputs": [],
   "source": [
    "def group_numbers_1(list_of_numbers):\n",
    "    result = []\n",
    "    group = []\n",
    "    \n",
    "    for i in list_of_numbers:\n",
    "        if len(group) >= 1:\n",
    "            if i != group[-1]:\n",
    "                result.append(group)\n",
    "                group = [i]\n",
    "            else:\n",
    "                group.append(i) \n",
    "        else:\n",
    "                group.append(i) \n",
    "\n",
    "    result.append(group)\n",
    "    return result"
   ]
  },
  {
   "cell_type": "code",
   "execution_count": 2,
   "metadata": {
    "ExecuteTime": {
     "end_time": "2020-10-29T10:05:05.042557Z",
     "start_time": "2020-10-29T10:05:05.021561Z"
    }
   },
   "outputs": [],
   "source": [
    "def group_numbers_2(list_of_numbers):\n",
    "    result = []\n",
    "    group = [list_of_numbers[0]]\n",
    "    \n",
    "    for i in range(1, len(list_of_numbers)):\n",
    "        if list_of_numbers[i] != group[-1]:\n",
    "            result.append(group)\n",
    "            group = [list_of_numbers[i]]\n",
    "        else:\n",
    "            group.append(list_of_numbers[i]) \n",
    "\n",
    "    result.append(group)\n",
    "    return result"
   ]
  },
  {
   "cell_type": "code",
   "execution_count": 3,
   "metadata": {
    "ExecuteTime": {
     "end_time": "2020-10-29T10:05:05.834351Z",
     "start_time": "2020-10-29T10:05:05.813318Z"
    }
   },
   "outputs": [
    {
     "name": "stdout",
     "output_type": "stream",
     "text": [
      "[1] → [[1]]\n",
      "[1, 1] → [[1, 1]]\n",
      "[1, 1, 2] → [[1, 1], [2]]\n",
      "[1, 1, 2, 3, 3, 1, 3, 1, 1, 1, 2] → [[1, 1], [2], [3, 3], [1], [3], [1, 1, 1], [2]]\n"
     ]
    }
   ],
   "source": [
    "# Examples \n",
    "a = [1]\n",
    "b = [1, 1]\n",
    "c = [1, 1, 2]\n",
    "d = [1, 1, 2, 3, 3, 1, 3, 1, 1, 1, 2]\n",
    "\n",
    "result = group_numbers_2(a)\n",
    "print(\"{} → {}\".format(a, result))\n",
    "\n",
    "result = group_numbers_2(b)\n",
    "print(\"{} → {}\".format(b, result))\n",
    "\n",
    "result = group_numbers_2(c)\n",
    "print(\"{} → {}\".format(c, result))\n",
    "\n",
    "result = group_numbers_2(d)\n",
    "print(\"{} → {}\".format(d, result))"
   ]
  },
  {
   "cell_type": "code",
   "execution_count": null,
   "metadata": {},
   "outputs": [],
   "source": []
  }
 ],
 "metadata": {
  "kernelspec": {
   "display_name": "Python 3",
   "language": "python",
   "name": "python3"
  },
  "language_info": {
   "codemirror_mode": {
    "name": "ipython",
    "version": 3
   },
   "file_extension": ".py",
   "mimetype": "text/x-python",
   "name": "python",
   "nbconvert_exporter": "python",
   "pygments_lexer": "ipython3",
   "version": "3.6.4"
  },
  "toc": {
   "base_numbering": 1,
   "nav_menu": {},
   "number_sections": true,
   "sideBar": true,
   "skip_h1_title": false,
   "title_cell": "Table of Contents",
   "title_sidebar": "Contents",
   "toc_cell": false,
   "toc_position": {},
   "toc_section_display": true,
   "toc_window_display": false
  }
 },
 "nbformat": 4,
 "nbformat_minor": 2
}
